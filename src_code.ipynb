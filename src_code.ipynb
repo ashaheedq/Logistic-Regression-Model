{
 "cells": [
  {
   "cell_type": "markdown",
   "metadata": {},
   "source": [
    "# CS 237 Final Project: Logistic Regression\n",
    "\n",
    "In this final assignment of the semester, you will analyze some data from the Wisconsin Breast Cancer Data Set to determine risk factors for Breast cancer. This project is due on Thursday, December 14th at midnight. You may complete the project in teams of 2-3 people (not more) or you may elect to do it by yourself. One member of the team should submit all relevant files (specified at the end of this notebook), and the names of all team members should be on all documents. All members will receive the same grade. This project is worth 5% of your final grade and may not be skipped. "
   ]
  },
  {
   "cell_type": "markdown",
   "metadata": {},
   "source": [
    "#### Abdulshaheed Alqunber (asq@bu.edu)\n",
    "#### Anuj Jain (anuj12@bu.edu)\n",
    "#### Karan Mago (kmago@bu.edu)\n",
    "#### Wayne Snyder CS237\n"
   ]
  },
  {
   "cell_type": "code",
   "execution_count": 141,
   "metadata": {},
   "outputs": [
    {
     "data": {
      "text/plain": [
       "{'divide': 'ignore', 'invalid': 'warn', 'over': 'warn', 'under': 'ignore'}"
      ]
     },
     "execution_count": 141,
     "metadata": {},
     "output_type": "execute_result"
    }
   ],
   "source": [
    "%matplotlib inline\n",
    "import os\n",
    "import numpy as np\n",
    "import pandas as pd\n",
    "import matplotlib.pyplot as plt\n",
    "from scipy import optimize\n",
    "from collections import Counter\n",
    "from sklearn import decomposition\n",
    "import seaborn as sns\n",
    "from sklearn.preprocessing import PolynomialFeatures\n",
    "from sklearn.model_selection import train_test_split\n",
    "from sklearn.metrics import confusion_matrix\n",
    "np.seterr(divide=\"ignore\")"
   ]
  },
  {
   "cell_type": "code",
   "execution_count": 142,
   "metadata": {},
   "outputs": [
    {
     "data": {
      "text/plain": [
       "'./Wisconsin_breast_cancer.csv'"
      ]
     },
     "execution_count": 142,
     "metadata": {},
     "output_type": "execute_result"
    }
   ],
   "source": [
    "def find(name, path): #Helper method for locating files\n",
    "    for root, dirs, files in os.walk(path):\n",
    "        if name in files:\n",
    "            return os.path.join(root, name)\n",
    "path =  find('Wisconsin_breast_cancer.csv', \".\" )\n",
    "path"
   ]
  },
  {
   "cell_type": "markdown",
   "metadata": {},
   "source": [
    "# Project Overview\n",
    "The American Cancer Society estimates that at the end of this year, 252,710 women will have been diagnosed with a new case of invasive breast cancer.  Since the prognosis of a patient diagnosed with an invasive form of breast cancer improves drastically the earlier the cancer is caught, it is imperative to reexamine current diagnostic methods using the most recent technologies, such as machine learning.    \n",
    "\n",
    "The dataset you will analyze for your paper is the\n",
    " Wisconsin breast cancer data set. The collection contains a list of relevant features computed from a digitized image of a Fine Needle Biopsy (FNA) of a breast cancer growth, in which cells from a suspicious growth in the breast are removed by a needle.  The dataset contains 683 entries, each with 10 features with a class identifier, to distinguish between benign and malignant tumors. \n",
    " \n",
    " Here the term $\\textit{benign}$ refers to a tumor, condition, or growth that is not cancerous and unlikely to metastasize (spread). In particular, benign tumors are localized and slow-growing, meaning they have not spread to other parts of the body and are unlikely to do so in the future. That being said, if a tumor gets large enough, it has the potential to press against blood vessels and nerves which can cause problems. Benign tumors can  usually be removed via surgery. On the other hand, if a tumor has the potential to, or already has spread to other parts of the body, this tumor is said to be $\\textit{malignant}$. This type of tumor possesses an immediate risk as it has the potential to spread to the lymphatic system or circulatory system. If the cancer spreads to other regions of the body, it becomes significantly more difficult to treat as localized surgery will no longer remove all of the dangerous cells. \n",
    " \n",
    " Your job for this project is to  construct a predictive model that takes as input a feature vector of values available  from a FNA and predicts whether or not the patient has cancer. The mathematical model we will use for prediction is called **Logistic Regression**. Don't let the name fool you, this is a mathematical model for classification, a common operation in machine learning.\n",
    " \n",
    "\n",
    " "
   ]
  },
  {
   "cell_type": "markdown",
   "metadata": {},
   "source": [
    "# Data \n",
    "\n",
    "The data is found in the associated file <code>Wisconsin_breast_cancer.csv</code>, which contains 683 records (each representing an individual) as shown in the next cell. The records have the following numeric fields which represent data collected about each individual. \n",
    "\n",
    "- ID number (not used in the analysis)\n",
    "\n",
    "- <code>Clump Thickness</code>: Benign cells tend to be grouped in mono-layers, while cancerous cells are often grouped in multiple layers. \n",
    "\n",
    "- <code>Uniformity of Cell Size</code> and\n",
    "- <code>Uniformity of Cell Shape</code>: Cancer cells tend to vary in size and shape, and larger tumors may be growing and hence non-benign, so these parameters are valuable in determining whether the cells are cancerous or not.\n",
    "\n",
    "- <code>Marginal Adhesion</code>: Normal cells tend to stick together and cancerous cells tend to lose this ability; hence loss of adhesion is a sign of malignancy. \n",
    "\n",
    "- <code>Single Epithelial Cell Size</code>: This is related to the uniformity mentioned above. Epithelial cells that are significantly enlarged may be malignant. \n",
    "\n",
    "- <code>Bare Nuclei</code>:  This is a term used for nuclei that is not surrounded by cytoplasm (the rest of the cell). These are typically seen in benign tumors. \n",
    "\n",
    "- <code>Bland Chromatin</code>: This describes a uniform \"texture\" of the nucleus seen in benign cells. In cancer cells the chromatin tends to be coarser.\n",
    "\n",
    "- <code>Normal Nucleoli</code>: \n",
    "Nucleoli are small structures seen in the nucleus. In normal cells the nucleolus is usually very small if visible at all. In malignant cells the nucleoli become more prominent and numerous. \n",
    "\n",
    "- <code>Mitoses</code>: Cancerous cells tend to undergo mitosis more rapidly and more frequently than healthy cells.  \n",
    "\n",
    "- <code>Target</code>: The result for this individual: 0.0 for benign, 1.0 for malignant\n",
    "\n",
    "More information about the dataset may be found here : https://archive.ics.uci.edu/ml/datasets/breast+cancer+wisconsin+(original).\n"
   ]
  },
  {
   "cell_type": "code",
   "execution_count": 143,
   "metadata": {},
   "outputs": [
    {
     "name": "stdout",
     "output_type": "stream",
     "text": [
      "/Users/Ashaheedq/Library/Mobile Documents/com~apple~CloudDocs/Fall 2017/CS 237/FinalProject\r\n"
     ]
    }
   ],
   "source": [
    "!pwd"
   ]
  },
  {
   "cell_type": "code",
   "execution_count": 144,
   "metadata": {},
   "outputs": [
    {
     "data": {
      "text/html": [
       "<div>\n",
       "<style>\n",
       "    .dataframe thead tr:only-child th {\n",
       "        text-align: right;\n",
       "    }\n",
       "\n",
       "    .dataframe thead th {\n",
       "        text-align: left;\n",
       "    }\n",
       "\n",
       "    .dataframe tbody tr th {\n",
       "        vertical-align: top;\n",
       "    }\n",
       "</style>\n",
       "<table border=\"1\" class=\"dataframe\">\n",
       "  <thead>\n",
       "    <tr style=\"text-align: right;\">\n",
       "      <th></th>\n",
       "      <th>Clump Thickness</th>\n",
       "      <th>Uniformity of Cell Size</th>\n",
       "      <th>Uniformity of Cell Shape</th>\n",
       "      <th>Marginal Adhesion</th>\n",
       "      <th>Single Epithelial Cell Size</th>\n",
       "      <th>Bare Nuclei</th>\n",
       "      <th>Bland Chromatin</th>\n",
       "      <th>Normal Nucleoli</th>\n",
       "      <th>Mitoses</th>\n",
       "      <th>Target</th>\n",
       "    </tr>\n",
       "  </thead>\n",
       "  <tbody>\n",
       "    <tr>\n",
       "      <th>0</th>\n",
       "      <td>5.0</td>\n",
       "      <td>1.0</td>\n",
       "      <td>1.0</td>\n",
       "      <td>1.0</td>\n",
       "      <td>2.0</td>\n",
       "      <td>1.0</td>\n",
       "      <td>3.0</td>\n",
       "      <td>1.0</td>\n",
       "      <td>1.0</td>\n",
       "      <td>0.0</td>\n",
       "    </tr>\n",
       "    <tr>\n",
       "      <th>1</th>\n",
       "      <td>5.0</td>\n",
       "      <td>4.0</td>\n",
       "      <td>4.0</td>\n",
       "      <td>5.0</td>\n",
       "      <td>7.0</td>\n",
       "      <td>10.0</td>\n",
       "      <td>3.0</td>\n",
       "      <td>2.0</td>\n",
       "      <td>1.0</td>\n",
       "      <td>0.0</td>\n",
       "    </tr>\n",
       "    <tr>\n",
       "      <th>2</th>\n",
       "      <td>3.0</td>\n",
       "      <td>1.0</td>\n",
       "      <td>1.0</td>\n",
       "      <td>1.0</td>\n",
       "      <td>2.0</td>\n",
       "      <td>2.0</td>\n",
       "      <td>3.0</td>\n",
       "      <td>1.0</td>\n",
       "      <td>1.0</td>\n",
       "      <td>0.0</td>\n",
       "    </tr>\n",
       "    <tr>\n",
       "      <th>3</th>\n",
       "      <td>6.0</td>\n",
       "      <td>8.0</td>\n",
       "      <td>8.0</td>\n",
       "      <td>1.0</td>\n",
       "      <td>3.0</td>\n",
       "      <td>4.0</td>\n",
       "      <td>3.0</td>\n",
       "      <td>7.0</td>\n",
       "      <td>1.0</td>\n",
       "      <td>0.0</td>\n",
       "    </tr>\n",
       "    <tr>\n",
       "      <th>4</th>\n",
       "      <td>4.0</td>\n",
       "      <td>1.0</td>\n",
       "      <td>1.0</td>\n",
       "      <td>3.0</td>\n",
       "      <td>2.0</td>\n",
       "      <td>1.0</td>\n",
       "      <td>3.0</td>\n",
       "      <td>1.0</td>\n",
       "      <td>1.0</td>\n",
       "      <td>0.0</td>\n",
       "    </tr>\n",
       "  </tbody>\n",
       "</table>\n",
       "</div>"
      ],
      "text/plain": [
       "   Clump Thickness  Uniformity of Cell Size  Uniformity of Cell Shape  \\\n",
       "0              5.0                      1.0                       1.0   \n",
       "1              5.0                      4.0                       4.0   \n",
       "2              3.0                      1.0                       1.0   \n",
       "3              6.0                      8.0                       8.0   \n",
       "4              4.0                      1.0                       1.0   \n",
       "\n",
       "   Marginal Adhesion  Single Epithelial Cell Size  Bare Nuclei  \\\n",
       "0                1.0                          2.0          1.0   \n",
       "1                5.0                          7.0         10.0   \n",
       "2                1.0                          2.0          2.0   \n",
       "3                1.0                          3.0          4.0   \n",
       "4                3.0                          2.0          1.0   \n",
       "\n",
       "   Bland Chromatin  Normal Nucleoli  Mitoses  Target  \n",
       "0              3.0              1.0      1.0     0.0  \n",
       "1              3.0              2.0      1.0     0.0  \n",
       "2              3.0              1.0      1.0     0.0  \n",
       "3              3.0              7.0      1.0     0.0  \n",
       "4              3.0              1.0      1.0     0.0  "
      ]
     },
     "execution_count": 144,
     "metadata": {},
     "output_type": "execute_result"
    }
   ],
   "source": [
    "data = pd.read_csv(path, index_col=0)\n",
    "data.head()"
   ]
  },
  {
   "cell_type": "code",
   "execution_count": 145,
   "metadata": {},
   "outputs": [
    {
     "name": "stderr",
     "output_type": "stream",
     "text": [
      "/Users/Ashaheedq/Library/Python/3.5/lib/python/site-packages/numpy/core/fromnumeric.py:57: FutureWarning: reshape is deprecated and will raise in a subsequent release. Please use .values.reshape(...) instead\n",
      "  return getattr(obj, method)(*args, **kwds)\n"
     ]
    }
   ],
   "source": [
    "features = data.columns.values[:-1]\n",
    "target = data.columns.values[-1]\n",
    "\n",
    "target_map = {\n",
    "    'benign':0,\n",
    "    'malignant':1\n",
    "}\n",
    "\n",
    "X, Y = data[features], data[target]\n",
    "Y = np.reshape(Y, (Y.shape[0],1))\n",
    " \n",
    "X_orig = X.copy()\n",
    "a = np.ones( (X.shape[0] , 1))\n",
    "X['1'] = a\n",
    "# Don't worry about the following warning"
   ]
  },
  {
   "cell_type": "markdown",
   "metadata": {},
   "source": [
    "# Logistic Regression\n",
    "\n",
    "This project will have you will build a logistic regression model to predict whether or not a patient has breast cancer. We will cover this topic thoroughly in lectures this week, and readings/viewings have been posted on the class web page. Our purpose here is to overview the technique for the purposes of the discussion today. You will have plenty of time to flesh out the details this week.\n",
    "\n",
    "Logistic regression is a way of adapting linear regression to a situation where the dependent variable Y (the outcome) has only two values, 0 or 1. Hence, the Y variable will follow a Bernoulli distribution, and what we want as an outcome is the probability that the result is 1 (i.e., that the individual has breast cancer), given the values of the parameters $\\theta$ (similar to the parameters $\\theta_0$ and $\\theta_1$ in linear regression) for the model, and the particular input $x$ (the fields in each record). In technical terms, this means that logistic regression calculates the maximum likelihood (or probability) for the $\\theta$ given the data. We derive the cost function assuming the probability of the outcome given x is described by:\n",
    "\n",
    "$P(\\ y=1 \\; \\vert \\; x \\ ; \\ \\theta \\ ) = h_{\\theta}(x)$ \n",
    "\n",
    "$P(\\ y=0 \\; \\vert \\; x \\ ; \\ \\theta \\ ) = 1 - h_{\\theta}(x)$\n",
    "\n"
   ]
  },
  {
   "cell_type": "markdown",
   "metadata": {},
   "source": [
    "In the technique of Maximum Likelihood, the values for the parameters in $\\theta$ are calculated to be minimum for a likelihood function, which in this case is given as \n",
    "\n",
    "$$L(\\theta) = \\prod_{i=1}^{m}{h_{\\theta}(x^i)}^{y^{(i)}}(1-h_{\\theta}(x^i))^{1-y^{(i)}}$$\n",
    "\n",
    "Taking the log of both sides gives\n",
    "\n",
    "$$\\log L(\\theta) =\\sum_{i=1}^{m} \\ [ \\ -y^{(i)} \\log(h_\\theta(x^{(i)})) \\ - \\ (1 - y^{(i)})\\log(1-h_\\theta(x^{(i)}))$$\n",
    "\n",
    "The goal of logistic regression is to find the $\\theta$ that minimizes the negative log likelihood (which is equivalent to maximizing the log likelihood  and more convenient). \n",
    "To begin, you should implement the cost function and hypothesis function. \n"
   ]
  },
  {
   "cell_type": "markdown",
   "metadata": {},
   "source": [
    "# Sigmoid Squashing Function \n",
    "\n",
    "In order to use linear regression on a Bernoulli outcome, we must adapt our linear regression techniques to a curve which relates the independent variables $x$ to a dependent variable which is a probability in the range (0,1). This is accomplished using the <i> sigmoid</i> function.  Before you start with the actual cost function, you should understand that the logistic regression hypothesis is defined as:\n",
    "\n",
    "$h_\\theta(x) = g( X \\theta)$\n",
    "for $X \\in \\mathbb{R}^{m \\times n }$ ( $m$ examples, $n$ features) and $\\theta \\in \\mathbb{R}^n$\n",
    "\n",
    "where function g is the sigmoid function. The sigmoid function is defined as:\n",
    "\n",
    "$g(z) = \\dfrac{1}{1+e^{-z}}$\n",
    "\n",
    "Your first step is to implement the sigmoid function. When you are finished, plot the sigmoid function, and  test the function with a scalar, a vector, and a matrix.\n",
    "\n",
    "<b>Note: you should use numpy arrays throughout this project!</b>"
   ]
  },
  {
   "cell_type": "code",
   "execution_count": 146,
   "metadata": {
    "collapsed": true
   },
   "outputs": [],
   "source": [
    "# Solution\n",
    "def g(z):\n",
    "    \"\"\"Sigmoid function\"\"\"\n",
    "    return 1 / (1+ (np.e**(-z)))"
   ]
  },
  {
   "cell_type": "code",
   "execution_count": 147,
   "metadata": {},
   "outputs": [
    {
     "name": "stdout",
     "output_type": "stream",
     "text": [
      "\n",
      "5\n",
      "0.9933071490757153\n",
      "\n",
      "[[ 0.  0.  0.  0.]\n",
      " [ 0.  0.  0.  0.]\n",
      " [ 0.  0.  0.  0.]\n",
      " [ 0.  0.  0.  0.]]\n",
      "[[ 0.5  0.5  0.5  0.5]\n",
      " [ 0.5  0.5  0.5  0.5]\n",
      " [ 0.5  0.5  0.5  0.5]\n",
      " [ 0.5  0.5  0.5  0.5]]\n",
      "\n",
      "[[ 1.]\n",
      " [ 1.]\n",
      " [ 1.]\n",
      " [ 1.]]\n",
      "[[ 0.73105858]\n",
      " [ 0.73105858]\n",
      " [ 0.73105858]\n",
      " [ 0.73105858]]\n",
      "\n",
      "[[ 1.]\n",
      " [ 1.]\n",
      " [ 1.]\n",
      " [ 1.]]\n",
      "[[ 0.73105858]\n",
      " [ 0.73105858]\n",
      " [ 0.73105858]\n",
      " [ 0.73105858]]\n",
      "\n",
      "[-1  0  2]\n",
      "[ 0.26894142  0.5         0.88079708]\n"
     ]
    },
    {
     "data": {
      "image/png": "[encoded data removed]",
      "text/plain": [
       "<matplotlib.figure.Figure at 0x114ed5550>"
      ]
     },
     "metadata": {},
     "output_type": "display_data"
    }
   ],
   "source": [
    "# test 1\n",
    "s0 = 5\n",
    "z0 = np.zeros((4,4))\n",
    "z1 = np.ones(shape=(4,1))\n",
    "z2 = np.array([-1,0,2])\n",
    "\n",
    "print(\"\\n\"+str(s0))\n",
    "print(g(s0))\n",
    "print(\"\\n\"+str(z0))\n",
    "print(g(z0))\n",
    "print(\"\\n\"+str(z1))\n",
    "print(g(z1))\n",
    "print(\"\\n\"+str(z1))\n",
    "print(g(z1))\n",
    "print(\"\\n\"+str(z2))\n",
    "print(g(z2))\n",
    "\n",
    "plt.figure(figsize=(10,6))\n",
    "plt.plot(np.arange(-10,10.5,.5) ,g( np.arange(-10,10.5,.5)))\n",
    "plt.xlabel('z')\n",
    "plt.ylabel('g(z)')\n",
    "plt.grid(True)\n",
    "plt.title(\"Sigmoid Function\")\n",
    "plt.show()"
   ]
  },
  {
   "cell_type": "markdown",
   "metadata": {},
   "source": [
    "# Cost Function\n",
    "\n",
    "\n",
    "Now you will implement the cost function. Complete the code\n",
    "in the functions *h* and *computeCost* below to return the value of the hypothesis function and the cost, respectively. Recall that the cost function in logistic regression is\n",
    "\n",
    "$computeCost(\\theta) \\ = \\ \\frac{1}{m} \\ \\sum_{i=1}^{m} \\ [ \\ -y^{(i)} log(h_\\theta(x^{(i)})) \\ - \\ (1 - y^{(i)})log(1-h_\\theta(x^{(i)})) \\ ]$\n",
    "\n",
    "\n",
    "\n",
    "Once you get this working, extend your code to compute the cost function for regularized logistic\n",
    "regression. The regularized cost function in logistic regression is:\n",
    "\n",
    "$computeCost(\\theta;X;Y;\\lambda) \\ = \\ [ \\ \\frac{1}{m} \\ \\sum_{i=1}^{m} \\ [ \\ -y^{(i)} log(h_\\theta(x^{(i)})) \\ - \\ (1 - y^{(i)})log(1-h_\\theta(x^{(i)})) \\ ] \\ ] \\ + \\frac{\\lambda}{2m} \\sum_{j=2}^{n} \\theta_j^2 $\n",
    "\n",
    "The log here is the natural log. Note that you should not regularize the parameter $\\theta_0$ (Why not? Think about why that would be a bad idea).\n",
    "\n"
   ]
  },
  {
   "cell_type": "code",
   "execution_count": 148,
   "metadata": {
    "collapsed": true
   },
   "outputs": [],
   "source": [
    "def h(theta, X): # Logistic hypothesis function\n",
    "    #return g(np.dot(theta,X))\n",
    "\n",
    "\n",
    "    z = 0\n",
    "    for i in range(len(theta)):\n",
    "        z += X[i]*theta[i]\n",
    "    return g(z)"
   ]
  },
  {
   "cell_type": "code",
   "execution_count": 149,
   "metadata": {
    "collapsed": true
   },
   "outputs": [],
   "source": [
    "def computeCost(theta,X,Y, Lambda = 0.): \n",
    "    \"\"\"\n",
    "    theta is an n-dimensional vector of parameters\n",
    "    X is data matrix\n",
    "    Y is a matrix with m-rows and 1 column of target values\n",
    "    This includes regularization if you set Lambda to not be zero (make sure it is non-negative)\n",
    "    \"\"\" \n",
    "    m = Y.size\n",
    "    X = X.values\n",
    "    Y = np.matrix(Y)\n",
    "\n",
    "    cost = np.sum([(-Y[i][0] * np.log(h(theta, X[i].T)) - (1 - Y[i][0]) * np.log(1 - h(theta,X[i].T))) for i in range(m)]) / (m)\n",
    "    reg = (Lambda / (2*m)) * np.sum([pow(theta,2) for i in range(len(theta))])\n",
    "    \n",
    "    ret  = cost + reg\n",
    "    ret = np.nan_to_num(ret)\n",
    "    if ret == 0:\n",
    "        return 99999999999\n",
    "    return ret"
   ]
  },
  {
   "cell_type": "markdown",
   "metadata": {},
   "source": [
    "# Putting it all together\n",
    " In this section, you will implement the LogisticRegression class. We give you a skeletal outline below:\n",
    "- Class LogisticRegression Attributes:\n",
    "    - Lambda: regularization Parameter\n",
    "    - theta: parameters for prediction\n",
    "- Class LogisticRegression Functions:\n",
    "    - init (given): Constructor.\n",
    "    - fit(self, X,Y, Lambda) ( given): Calls optimizeRegularizedTheta to find parameters for the model. \n",
    "    - optimizeRegularizedTheta (given): Given X,Y and a method of optimization, it will find the value of theta that minimizes the cot function you coded out. It should print out the training accuracy score. \n",
    "   - predict(self, X): predicts the probabilities for all vectors in X\n",
    "   - predict_class(self, X): predicts the class label for all vectors in X\n",
    "   - score(self,X,Y): returns the accuracy for an input X with true labels Y\n",
    "    \n",
    "- Fit will use optimizeRegularizedTheta to find the optimal collection of parameters. (Either read up on how  scip.optimize.minimize works or implement the optimization yourself (not recommended) )\n",
    " "
   ]
  },
  {
   "cell_type": "code",
   "execution_count": 169,
   "metadata": {
    "collapsed": true
   },
   "outputs": [],
   "source": [
    "# A solution\n",
    "\n",
    "class LogisticRegression:\n",
    "    def __init__(self):\n",
    "        self.Lambda = 0\n",
    "        self.cost = None\n",
    "        self.poly = None\n",
    "        self.accuracy = 0\n",
    "\n",
    "    def optimizeRegularizedTheta(self,X,Y, opt_meth = 'SLSQP'):\n",
    "        result = optimize.minimize(computeCost, x0=self.theta, args=(X, Y, self.Lambda),  method=opt_meth,\n",
    "                                   options={\"maxiter\":5000, \"disp\":False} )\n",
    "        return np.array(result.x), result.fun\n",
    "    \n",
    "    def fit(self, X, Y, Lambda= None):\n",
    "        self.theta = np.zeros((X.shape[1],1))\n",
    "        if Lambda:\n",
    "            self.Lambda =  Lambda\n",
    "        self.theta, mincost = self.optimizeRegularizedTheta(X,Y)\n",
    "        self.theta = np.reshape(self.theta, (len(self.theta) ,1))\n",
    "        self.score(X,Y)\n",
    "        \n",
    "    def predict(self, X):\n",
    "        X_val = X.values\n",
    "        th = (np.matrix(self.theta))\n",
    "        return [h(X_val[i],self.theta)[0] for i in range (len(X_val))]\n",
    "    \n",
    "    def score(self, X, Y):\n",
    "        total = 0\n",
    "        X = self.predict_class(X)\n",
    "        c = []\n",
    "        \n",
    "        for i in range(len(Y)):\n",
    "            if X[i] == Y[i][0]:\n",
    "                total += 1\n",
    "                c.append('True')\n",
    "            else: c.append('False')\n",
    "                \n",
    "        self.accuracy = total/len(Y)\n",
    "        \n",
    "        print(Counter(c))\n",
    "        print(\"Training Accuracy with Lambda = \"+str(self.Lambda)+\" \"+str(self.accuracy))\n",
    "        \n",
    "        return self.accuracy\n",
    "    \n",
    "    def predict_class(self, X):\n",
    "        X = self.predict(X)\n",
    "        return [np.around(x, decimals=0) for x in X]"
   ]
  },
  {
   "cell_type": "markdown",
   "metadata": {
    "collapsed": true
   },
   "source": [
    "# Score on the entire Dataset\n",
    "\n",
    "Fit a model to the entire dataset and score the accuracy.  It should be at least 80% accurate"
   ]
  },
  {
   "cell_type": "code",
   "execution_count": 151,
   "metadata": {},
   "outputs": [
    {
     "name": "stdout",
     "output_type": "stream",
     "text": [
      "Counter({'True': 662, 'False': 21})\n",
      "Training Accuracy with Lambda = 0 0.9692532942898975\n"
     ]
    }
   ],
   "source": [
    "clf = LogisticRegression()\n",
    "clf.fit(X,Y,0)"
   ]
  },
  {
   "cell_type": "code",
   "execution_count": 152,
   "metadata": {},
   "outputs": [
    {
     "data": {
      "text/plain": [
       "array([[  5.37771924e-01],\n",
       "       [ -7.21033154e-03],\n",
       "       [  3.20301611e-01],\n",
       "       [  3.32871012e-01],\n",
       "       [  9.24578028e-02],\n",
       "       [  3.83923882e-01],\n",
       "       [  4.52240699e-01],\n",
       "       [  2.12767310e-01],\n",
       "       [  5.25390750e-01],\n",
       "       [ -1.01010821e+01]])"
      ]
     },
     "execution_count": 152,
     "metadata": {},
     "output_type": "execute_result"
    }
   ],
   "source": [
    "# Potential Thetas\n",
    "clf.theta"
   ]
  },
  {
   "cell_type": "markdown",
   "metadata": {},
   "source": [
    "# Polynomial Feature Transformation\n",
    "The hypothesis for a logistic regression is the data is linearly separable. In our case, it appears that it is not.  \n",
    "One way to  achieve a nonlinear decision boundary is to transform the feature space with a non-linear feature mapping. As a result of this mapping, our vector of  features will  be transformed into a $n'$-dimensional\n",
    "vector. A logistic regression classifier trained on this\n",
    "higher-dimension feature vector will have a more complex\n",
    "decision boundary. While there are many maps we can use, we will use a polynomial feature mapping of degree 2. "
   ]
  },
  {
   "cell_type": "code",
   "execution_count": 153,
   "metadata": {
    "collapsed": true
   },
   "outputs": [],
   "source": [
    "poly = PolynomialFeatures(2)\n",
    "X_transformed = poly.fit_transform(X_orig)\n",
    "X_tr = pd.DataFrame(X_transformed)\n",
    "X_tr['intercept'] = a"
   ]
  },
  {
   "cell_type": "markdown",
   "metadata": {},
   "source": [
    "Notice the accuracy goes up!"
   ]
  },
  {
   "cell_type": "code",
   "execution_count": 154,
   "metadata": {},
   "outputs": [
    {
     "name": "stdout",
     "output_type": "stream",
     "text": [
      "Counter({'True': 671, 'False': 12})\n",
      "Training Accuracy with Lambda = 0 0.9824304538799414\n"
     ]
    }
   ],
   "source": [
    "clf_poly = LogisticRegression()\n",
    "clf_poly.fit(X_tr,Y,0)"
   ]
  },
  {
   "cell_type": "code",
   "execution_count": 155,
   "metadata": {},
   "outputs": [
    {
     "data": {
      "text/plain": [
       "array([[-0.55192224],\n",
       "       [-0.78197746],\n",
       "       [-0.23715026],\n",
       "       [-0.23714916],\n",
       "       [-0.29431998],\n",
       "       [-0.74873108],\n",
       "       [-0.19158666],\n",
       "       [-0.58157485],\n",
       "       [-0.20441249],\n",
       "       [-0.42369593],\n",
       "       [ 0.08532929],\n",
       "       [-0.02517491],\n",
       "       [ 0.14868892],\n",
       "       [-0.22320241],\n",
       "       [ 0.02620216],\n",
       "       [ 0.12227246],\n",
       "       [-0.02233024],\n",
       "       [-0.1216687 ],\n",
       "       [ 0.31998001],\n",
       "       [ 0.02721483],\n",
       "       [-0.19037483],\n",
       "       [ 0.09347761],\n",
       "       [ 0.1288287 ],\n",
       "       [-0.22908437],\n",
       "       [ 0.22588618],\n",
       "       [ 0.0673479 ],\n",
       "       [ 0.01548615],\n",
       "       [ 0.04590981],\n",
       "       [ 0.05579243],\n",
       "       [ 0.09177291],\n",
       "       [ 0.06507466],\n",
       "       [ 0.05387747],\n",
       "       [-0.025123  ],\n",
       "       [-0.0970486 ],\n",
       "       [ 0.16024733],\n",
       "       [-0.09108817],\n",
       "       [ 0.01149946],\n",
       "       [-0.1027946 ],\n",
       "       [ 0.10668141],\n",
       "       [-0.06866411],\n",
       "       [ 0.02106583],\n",
       "       [-0.06577821],\n",
       "       [ 0.18757959],\n",
       "       [-0.09979592],\n",
       "       [-0.04792632],\n",
       "       [ 0.05414652],\n",
       "       [ 0.15631764],\n",
       "       [ 0.01370002],\n",
       "       [-0.13506787],\n",
       "       [-0.05707565],\n",
       "       [-0.17401793],\n",
       "       [ 0.06675055],\n",
       "       [ 0.19760172],\n",
       "       [-0.15674404],\n",
       "       [ 0.08463735],\n",
       "       [-0.55192224]])"
      ]
     },
     "execution_count": 155,
     "metadata": {},
     "output_type": "execute_result"
    }
   ],
   "source": [
    "clf_poly.theta"
   ]
  },
  {
   "cell_type": "markdown",
   "metadata": {},
   "source": [
    "# Preventing Overfitting \n",
    "To try to prevent overfitting, you will split your data into 3 pieces: training, testing, and validation. \n",
    "- Train is used to fit the model\n",
    "- Validate is used to find the best hyperparameter $\\lambda$ \n",
    "- Test is used to evaluate the model once we have selected a good hyper parameter\n",
    "Implement train_validate_test_split(X,Y) \n",
    "- takes as input X (potentially feature transformed) and Y\n",
    "- returns train, test, validate (where each one is a dataframe with both features and target. Target should be at key index -1"
   ]
  },
  {
   "cell_type": "code",
   "execution_count": 156,
   "metadata": {},
   "outputs": [
    {
     "data": {
      "text/plain": [
       "Index(['Clump Thickness', 'Uniformity of Cell Size',\n",
       "       'Uniformity of Cell Shape', 'Marginal Adhesion',\n",
       "       'Single Epithelial Cell Size', 'Bare Nuclei', 'Bland Chromatin',\n",
       "       'Normal Nucleoli', 'Mitoses', '1'],\n",
       "      dtype='object')"
      ]
     },
     "execution_count": 156,
     "metadata": {},
     "output_type": "execute_result"
    }
   ],
   "source": [
    "#hint\n",
    "X.keys()"
   ]
  },
  {
   "cell_type": "code",
   "execution_count": 157,
   "metadata": {
    "collapsed": true
   },
   "outputs": [],
   "source": [
    "def train_validate_test_split(X,Y):\n",
    "    # for reproducability\n",
    "    np.random.seed(1234)\n",
    "    X['Target'] = Y\n",
    "    train, validate, test = None, None, None\n",
    "    train, validate, test= np.split(X.sample(frac=1), [int(.6*len(X)), int(.8*len(X))])\n",
    "    return train, validate, test\n",
    "\n",
    "train, validate, test = train_validate_test_split(X,Y)"
   ]
  },
  {
   "cell_type": "code",
   "execution_count": 158,
   "metadata": {
    "collapsed": true
   },
   "outputs": [],
   "source": [
    "def train_validate_test_split(X,Y):\n",
    "    # for reproducability\n",
    "    np.random.seed(1234)\n",
    "    X['Target'] = Y\n",
    "    train, validate, test = None, None, None\n",
    "    #train, validate, test= np.split(N.sample(frac=1), [int(.6*len(N)), int(.8*len(N))])\n",
    "    \n",
    "    perm = np.random.permutation(X.index)\n",
    "    m = len(X)\n",
    "    train_end = int(.6 * m)\n",
    "    validate_end = int(.2 * m) + train_end\n",
    "    train = X.iloc[perm[:train_end]]\n",
    "    validate = X.iloc[perm[train_end:validate_end]]\n",
    "    test = X.iloc[perm[validate_end:]]\n",
    "    return train, validate, test\n",
    "    \n",
    "    \n",
    "    #return train, validate, test\n",
    "\n",
    "train, validate, test = train_validate_test_split(X,Y)\n",
    "\n",
    "\n"
   ]
  },
  {
   "cell_type": "markdown",
   "metadata": {},
   "source": [
    "adopted from: \n",
    "“How to Split Data into 3 Sets (Train, Validation and Test)?” Pandas - How to Split Data into 3 Sets (Train, Validation and Test)? - Stack Overflow, stackoverflow.com/questions/38250710/how-to-split-data-into-3-sets-train-validation-and-test."
   ]
  },
  {
   "cell_type": "code",
   "execution_count": 159,
   "metadata": {
    "collapsed": true
   },
   "outputs": [],
   "source": [
    "# Helper Function\n",
    "def data_to_XY(data):\n",
    "    k  = data.keys()\n",
    "    X, Y = data[k[:-1]], data[k[-1]]\n",
    "    Y = np.reshape(Y, (Y.shape[0],1))\n",
    "    return X,Y"
   ]
  },
  {
   "cell_type": "markdown",
   "metadata": {},
   "source": [
    "# Grid search for $\\lambda$\n",
    "\n",
    "Build a model using your training set for each $\\lambda$ in [0,1,10,100,1000,1e6, 1e9]. Select the model that has the highest validation accuracy. Finally, compute the accuracy on testing set and return the selected model. "
   ]
  },
  {
   "cell_type": "code",
   "execution_count": 196,
   "metadata": {
    "collapsed": true
   },
   "outputs": [],
   "source": [
    "def find_lambda(lambda_grid, X,Y):\n",
    "    train, validate, test = train_validate_test_split(X,Y)\n",
    "    trainX, trainY = data_to_XY(train)\n",
    "    validateX, validateY = data_to_XY(validate)\n",
    "    testX, testY = data_to_XY(test)\n",
    "    best_lambda = 0\n",
    "    best_lambda_score = 0\n",
    "    best_clf = None\n",
    "    s = []\n",
    "    \n",
    "    for i in range(len(lambda_grid)):\n",
    "        clf = LogisticRegression()\n",
    "        clf.fit(trainX,trainY,lambda_grid[i])\n",
    "        s.append(clf.accuracy)\n",
    "        print('after training')\n",
    "        clf.fit(validateX,validateY,lambda_grid[i])\n",
    "        print('after validating')\n",
    "        if clf.accuracy > best_lambda_score: \n",
    "            best_lambda_score = clf.accuracy\n",
    "            best_lambda = clf.Lambda\n",
    "\n",
    "    print('')\n",
    "    print('DONE WITH FINDING LAMBDA')\n",
    "    print('')\n",
    "    \n",
    "    print('best lambda score: '+ str(best_lambda_score))\n",
    "    clf = LogisticRegression()\n",
    "    clf.fit(trainX,trainY,best_lambda)\n",
    "    #clf.fit(validateX,validateY,best_lambda)\n",
    "    #clf.fit(testX,testY,best_lambda)\n",
    "    best_clf = clf\n",
    "    return best_lambda, best_lambda_score, best_clf  , s, testX,testY"
   ]
  },
  {
   "cell_type": "code",
   "execution_count": 197,
   "metadata": {},
   "outputs": [
    {
     "name": "stderr",
     "output_type": "stream",
     "text": [
      "/Users/Ashaheedq/Library/Python/3.5/lib/python/site-packages/numpy/core/fromnumeric.py:57: FutureWarning: reshape is deprecated and will raise in a subsequent release. Please use .values.reshape(...) instead\n",
      "  return getattr(obj, method)(*args, **kwds)\n"
     ]
    },
    {
     "name": "stdout",
     "output_type": "stream",
     "text": [
      "Counter({'True': 398, 'False': 11})\n",
      "Training Accuracy with Lambda = 0 0.9731051344743277\n",
      "after training\n",
      "Counter({'True': 135, 'False': 1})\n",
      "Training Accuracy with Lambda = 0 0.9926470588235294\n",
      "after validating\n",
      "Counter({'True': 393, 'False': 16})\n",
      "Training Accuracy with Lambda = 1 0.960880195599022\n",
      "after training\n",
      "Counter({'True': 132, 'False': 4})\n",
      "Training Accuracy with Lambda = 1 0.9705882352941176\n",
      "after validating\n",
      "Counter({'True': 380, 'False': 29})\n",
      "Training Accuracy with Lambda = 10 0.9290953545232273\n",
      "after training\n",
      "Counter({'True': 126, 'False': 10})\n",
      "Training Accuracy with Lambda = 10 0.9264705882352942\n",
      "after validating\n",
      "Counter({'True': 345, 'False': 64})\n",
      "Training Accuracy with Lambda = 100 0.843520782396088\n",
      "after training\n",
      "Counter({'False': 71, 'True': 65})\n",
      "Training Accuracy with Lambda = 100 0.47794117647058826\n",
      "after validating\n",
      "Counter({'False': 262, 'True': 147})\n",
      "Training Accuracy with Lambda = 1000 0.3594132029339853\n",
      "after training\n",
      "Counter({'False': 89, 'True': 47})\n",
      "Training Accuracy with Lambda = 1000 0.34558823529411764\n",
      "after validating\n",
      "Counter({'False': 262, 'True': 147})\n",
      "Training Accuracy with Lambda = 1000000.0 0.3594132029339853\n",
      "after training\n",
      "Counter({'False': 89, 'True': 47})\n",
      "Training Accuracy with Lambda = 1000000.0 0.34558823529411764\n",
      "after validating\n",
      "Counter({'False': 262, 'True': 147})\n",
      "Training Accuracy with Lambda = 1000000000.0 0.3594132029339853\n",
      "after training\n",
      "Counter({'True': 107, 'False': 29})\n",
      "Training Accuracy with Lambda = 1000000000.0 0.7867647058823529\n",
      "after validating\n",
      "\n",
      "DONE WITH FINDING LAMBDA\n",
      "\n",
      "best lambda score: 0.9926470588235294\n",
      "Counter({'True': 398, 'False': 11})\n",
      "Training Accuracy with Lambda = 0 0.9731051344743277\n"
     ]
    }
   ],
   "source": [
    "grid = [0,1,10,100,1000,1e6, 1e9]\n",
    "_,_,clf_n ,sc, textX, textY = find_lambda(grid, X,Y)"
   ]
  },
  {
   "cell_type": "code",
   "execution_count": 198,
   "metadata": {},
   "outputs": [
    {
     "data": {
      "text/plain": [
       "[<matplotlib.lines.Line2D at 0x114a7f6d8>]"
      ]
     },
     "execution_count": 198,
     "metadata": {},
     "output_type": "execute_result"
    },
    {
     "data": {
      "image/png": "[encoded data removed]",
      "text/plain": [
       "<matplotlib.figure.Figure at 0x114a7fd30>"
      ]
     },
     "metadata": {},
     "output_type": "display_data"
    }
   ],
   "source": [
    "plt.xlabel('$\\lambda \\in [0,1,10,100,1000,1e6, 1e9]$')\n",
    "plt.ylabel(\"Accuracy\")\n",
    "plt.plot([i for i in range(len(grid))], sc)"
   ]
  },
  {
   "cell_type": "code",
   "execution_count": 199,
   "metadata": {},
   "outputs": [
    {
     "name": "stderr",
     "output_type": "stream",
     "text": [
      "/Users/Ashaheedq/Library/Python/3.5/lib/python/site-packages/numpy/core/fromnumeric.py:57: FutureWarning: reshape is deprecated and will raise in a subsequent release. Please use .values.reshape(...) instead\n",
      "  return getattr(obj, method)(*args, **kwds)\n"
     ]
    },
    {
     "name": "stdout",
     "output_type": "stream",
     "text": [
      "Counter({'True': 406, 'False': 3})\n",
      "Training Accuracy with Lambda = 0 0.9926650366748166\n",
      "after training\n",
      "Counter({'True': 136})\n",
      "Training Accuracy with Lambda = 0 1.0\n",
      "after validating\n",
      "Counter({'True': 401, 'False': 8})\n",
      "Training Accuracy with Lambda = 1 0.980440097799511\n",
      "after training\n",
      "Counter({'True': 135, 'False': 1})\n",
      "Training Accuracy with Lambda = 1 0.9926470588235294\n",
      "after validating\n",
      "Counter({'True': 396, 'False': 13})\n",
      "Training Accuracy with Lambda = 10 0.9682151589242054\n",
      "after training\n",
      "Counter({'True': 133, 'False': 3})\n",
      "Training Accuracy with Lambda = 10 0.9779411764705882\n",
      "after validating\n",
      "Counter({'True': 384, 'False': 25})\n",
      "Training Accuracy with Lambda = 100 0.9388753056234719\n",
      "after training\n",
      "Counter({'True': 126, 'False': 10})\n",
      "Training Accuracy with Lambda = 100 0.9264705882352942\n",
      "after validating\n",
      "Counter({'True': 318, 'False': 91})\n",
      "Training Accuracy with Lambda = 1000 0.7775061124694377\n",
      "after training\n",
      "Counter({'False': 88, 'True': 48})\n",
      "Training Accuracy with Lambda = 1000 0.35294117647058826\n",
      "after validating\n",
      "Counter({'False': 262, 'True': 147})\n",
      "Training Accuracy with Lambda = 1000000.0 0.3594132029339853\n",
      "after training\n",
      "Counter({'False': 89, 'True': 47})\n",
      "Training Accuracy with Lambda = 1000000.0 0.34558823529411764\n",
      "after validating\n",
      "Counter({'False': 262, 'True': 147})\n",
      "Training Accuracy with Lambda = 1000000000.0 0.3594132029339853\n",
      "after training\n",
      "Counter({'False': 89, 'True': 47})\n",
      "Training Accuracy with Lambda = 1000000000.0 0.34558823529411764\n",
      "after validating\n",
      "\n",
      "DONE WITH FINDING LAMBDA\n",
      "\n",
      "best lambda score: 1.0\n",
      "Counter({'True': 406, 'False': 3})\n",
      "Training Accuracy with Lambda = 0 0.9926650366748166\n"
     ]
    }
   ],
   "source": [
    "grid = [0,1,10,100,1000,1e6, 1e9]\n",
    "_,_ , model, sct, testXtr, testYtr, = find_lambda(grid, X_tr,Y)"
   ]
  },
  {
   "cell_type": "code",
   "execution_count": 200,
   "metadata": {},
   "outputs": [
    {
     "data": {
      "text/plain": [
       "[<matplotlib.lines.Line2D at 0x115cc8630>]"
      ]
     },
     "execution_count": 200,
     "metadata": {},
     "output_type": "execute_result"
    },
    {
     "data": {
      "image/png": "[encoded data removed]",
      "text/plain": [
       "<matplotlib.figure.Figure at 0x115d94710>"
      ]
     },
     "metadata": {},
     "output_type": "display_data"
    }
   ],
   "source": [
    "plt.xlabel('$\\lambda \\in [0,1,10,100,1000,1e6, 1e9]$')\n",
    "plt.ylabel(\"Accuracy\")\n",
    "plt.plot([i for i in range(len(grid))], sct)"
   ]
  },
  {
   "cell_type": "code",
   "execution_count": 201,
   "metadata": {},
   "outputs": [
    {
     "data": {
      "text/plain": [
       "array([[-0.59528619],\n",
       "       [-0.84053528],\n",
       "       [-0.30994908],\n",
       "       [-0.34059029],\n",
       "       [-0.44855281],\n",
       "       [-0.79235309],\n",
       "       [-0.40409492],\n",
       "       [-0.72281374],\n",
       "       [-0.22450754],\n",
       "       [-0.43283633],\n",
       "       [ 0.22381757],\n",
       "       [ 0.05276797],\n",
       "       [ 0.23183789],\n",
       "       [-0.4821596 ],\n",
       "       [ 0.16775696],\n",
       "       [ 0.19550172],\n",
       "       [-0.19719441],\n",
       "       [-0.38995943],\n",
       "       [ 0.25945622],\n",
       "       [ 0.01058596],\n",
       "       [-0.14906783],\n",
       "       [ 0.20473374],\n",
       "       [ 0.15774878],\n",
       "       [-0.24425662],\n",
       "       [ 0.25936975],\n",
       "       [-0.05055938],\n",
       "       [ 0.04311232],\n",
       "       [-0.01852816],\n",
       "       [-0.07614815],\n",
       "       [-0.25369721],\n",
       "       [ 0.03601176],\n",
       "       [ 0.13419351],\n",
       "       [ 0.1076448 ],\n",
       "       [-0.10456223],\n",
       "       [ 0.2101057 ],\n",
       "       [-0.0489343 ],\n",
       "       [ 0.14076908],\n",
       "       [-0.07775505],\n",
       "       [ 0.13857539],\n",
       "       [-0.15028236],\n",
       "       [ 0.13481169],\n",
       "       [-0.11038207],\n",
       "       [ 0.12312882],\n",
       "       [-0.12136867],\n",
       "       [ 0.05836732],\n",
       "       [ 0.07446991],\n",
       "       [ 0.06513613],\n",
       "       [ 0.09506488],\n",
       "       [-0.16447642],\n",
       "       [ 0.04752161],\n",
       "       [-0.18858339],\n",
       "       [ 0.09476645],\n",
       "       [ 0.326637  ],\n",
       "       [-0.03897697],\n",
       "       [-0.00576192],\n",
       "       [-0.59528619]])"
      ]
     },
     "execution_count": 201,
     "metadata": {},
     "output_type": "execute_result"
    }
   ],
   "source": [
    "model.theta"
   ]
  },
  {
   "cell_type": "markdown",
   "metadata": {},
   "source": [
    "# Further exploration\n",
    "Now you should explore how well your model performs with respect to more than just accuracy. Build the confusion matrix and report your model's sensitivity, (true positive rate), specificity (false positive rate), false negative rate, true negative and precision. Interpret your results in each case (IE, how does this metric translate to a real world decision?)\n",
    "For more on the confusion matrix, see https://en.wikipedia.org/wiki/Confusion_matrix"
   ]
  },
  {
   "cell_type": "code",
   "execution_count": 202,
   "metadata": {},
   "outputs": [
    {
     "data": {
      "text/plain": [
       "array([[90,  3],\n",
       "       [ 7, 38]])"
      ]
     },
     "execution_count": 202,
     "metadata": {},
     "output_type": "execute_result"
    }
   ],
   "source": [
    "y_preds = model.predict_class(testXtr)\n",
    "cm = confusion_matrix(testYtr, y_preds)\n",
    "cm"
   ]
  },
  {
   "cell_type": "code",
   "execution_count": 203,
   "metadata": {},
   "outputs": [
    {
     "data": {
      "text/plain": [
       "Counter({0.0: 93, 1.0: 45})"
      ]
     },
     "execution_count": 203,
     "metadata": {},
     "output_type": "execute_result"
    }
   ],
   "source": [
    "Counter(testYtr.flatten()) # Bias in testing set, more examples of clean then there are exaples of cancer!"
   ]
  },
  {
   "cell_type": "code",
   "execution_count": 206,
   "metadata": {},
   "outputs": [
    {
     "name": "stdout",
     "output_type": "stream",
     "text": [
      "90 3 7 38\n",
      "accuracy:  0.927536231884\n",
      "sensitivity: 0.844444444444\n",
      "specificity:  0.967741935484\n",
      "precision:  0.926829268293\n"
     ]
    }
   ],
   "source": [
    "def classification_summary(cm):\n",
    "    # 2 class confusion matrix\n",
    "    tn, fp, fn, tp = cm.ravel()\n",
    "    accuracy = (tp+tn) / (tn+fp+fn+tp)\n",
    "    sensitivity = tp/(tp+fn)\n",
    "    specificity = tn/(tn+fp)\n",
    "    precision = tp/(tp+fp)\n",
    "    print(tn,fp,fn,tp)\n",
    "    print('accuracy: ',accuracy)\n",
    "    print('sensitivity:' , sensitivity) #<-- this is a problem! Can you tihnk of how to fix it?\n",
    "    print('specificity: ', specificity)\n",
    "    print('precision: ', precision)\n",
    "classification_summary(cm)"
   ]
  },
  {
   "cell_type": "markdown",
   "metadata": {},
   "source": []
  },
  {
   "cell_type": "markdown",
   "metadata": {},
   "source": [
    "# Submission Requirements \n",
    "Select your final model. Reflect on your choice. Did you use a feature transformation? Analyze your results. You must submit your project as a Jupyter notebook containing all your code, and also a Word, Latex, or other document containing your analysis (in English). (You may also do this in a markdown cell at the end of your notebook.)  Your analysis should tell a story...\n",
    "\n",
    "1. Title/abstract: Give your report a title and write a brief (e.g., 100-200 words)\n",
    "abstract summarizing the goal, execution, and conclusions of your project.\n",
    "2. Introduction: An initial section serving as both a start to the paper and an\n",
    "overview\n",
    "3. Background: Here you should summarize the basic prediction problem you face,\n",
    "the nature of the data and the goal(s) of your work.\n",
    "4. Modeling and Analysis: Describe (concisely!) the key steps you took and the\n",
    "findings you obtained in the modeling and analysis of your data. These might include,\n",
    "for example, descriptive analysis through visualizations and summary statistics,\n",
    "transformation of variables suggested by such analysis, initial model building,\n",
    "diagnostic analysis, and further key steps in the iterative process of building your\n",
    "final model. For each key step and/or result, you should include a snippet of the\n",
    "relevant  code in an appendix to your report.\n",
    "Please note: You are not being asked here to simply list everything you tried in\n",
    "analyzing the data! It is up to you to decide what is important and should be\n",
    "included.You will be graded on the soundness of your judgment, as it is reflected\n",
    "in the content and focus of this section.\n",
    "5. Prediction: Shifting to the main goal of this exercise, you should have a separate\n",
    "section describing how you did in predicting the variable of interest. \n",
    "6. Discussion: Use this section to revisit your goals, reflect on the extent to which you\n",
    "feel you achieved them, how the analysis and/or the initial study (i.e,. in which\n",
    "the data were obtained) could be modified the next time, and, ultimately, the\n",
    "implications of your work on. For example, how could a physician leverage your model to make more informed decisions? \n",
    "7. Appendix: Here I wish to see the main snippets of  code you used in doing\n",
    "your analyses. These should be illustrative. So, for example, you should not include\n",
    "every call to ‘plot’ that you made. But if you include a plot(s) in your main\n",
    "text, then I’d like to see the code for that in the appendix. You should include all of the code you used to build the model. **You are only allowed to use a Logistic Regression Model that you implemented yourself! This means you cannot use any package that fully implements Logistic Regression.  **\n",
    "\n",
    "Your total report should be 2-4 pages long. "
   ]
  },
  {
   "cell_type": "code",
   "execution_count": null,
   "metadata": {
    "collapsed": true
   },
   "outputs": [],
   "source": []
  }
 ],
 "metadata": {
  "kernelspec": {
   "display_name": "Python 3",
   "language": "python",
   "name": "python3"
  },
  "language_info": {
   "codemirror_mode": {
    "name": "ipython",
    "version": 3
   },
   "file_extension": ".py",
   "mimetype": "text/x-python",
   "name": "python",
   "nbconvert_exporter": "python",
   "pygments_lexer": "ipython3",
   "version": "3.5.2"
  }
 },
 "nbformat": 4,
 "nbformat_minor": 2
}
